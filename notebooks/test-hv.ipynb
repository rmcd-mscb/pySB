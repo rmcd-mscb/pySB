{
 "cells": [
  {
   "cell_type": "code",
   "execution_count": 1,
   "metadata": {},
   "outputs": [
    {
     "data": {
      "text/plain": [
       "'C:\\\\Users\\\\rmcd\\\\anaconda3\\\\envs\\\\holoviz-tutorial\\\\python.exe'"
      ]
     },
     "execution_count": 1,
     "metadata": {},
     "output_type": "execute_result"
    }
   ],
   "source": [
    "%matplotlib inline\n",
    "import sys\n",
    "sys.executable"
   ]
  },
  {
   "cell_type": "code",
   "execution_count": 13,
   "metadata": {},
   "outputs": [
    {
     "ename": "ModuleNotFoundError",
     "evalue": "No module named '__main__.Utils'; '__main__' is not a package",
     "output_type": "error",
     "traceback": [
      "\u001b[1;31m---------------------------------------------------------------------------\u001b[0m",
      "\u001b[1;31mModuleNotFoundError\u001b[0m                       Traceback (most recent call last)",
      "\u001b[1;32m<ipython-input-13-0e2bb2f48afa>\u001b[0m in \u001b[0;36m<module>\u001b[1;34m\u001b[0m\n\u001b[0;32m      2\u001b[0m \u001b[1;32mimport\u001b[0m \u001b[0mnumpy\u001b[0m \u001b[1;32mas\u001b[0m \u001b[0mnp\u001b[0m\u001b[1;33m\u001b[0m\u001b[1;33m\u001b[0m\u001b[0m\n\u001b[0;32m      3\u001b[0m \u001b[1;33m\u001b[0m\u001b[0m\n\u001b[1;32m----> 4\u001b[1;33m \u001b[1;32mfrom\u001b[0m \u001b[1;33m.\u001b[0m\u001b[0mUtils\u001b[0m\u001b[1;33m.\u001b[0m\u001b[0mCOGridGen\u001b[0m \u001b[1;32mimport\u001b[0m \u001b[0mCOGridGen\u001b[0m\u001b[1;33m\u001b[0m\u001b[1;33m\u001b[0m\u001b[0m\n\u001b[0m\u001b[0;32m      5\u001b[0m \u001b[1;32mfrom\u001b[0m \u001b[1;33m.\u001b[0m\u001b[0mUtils\u001b[0m\u001b[1;33m.\u001b[0m\u001b[0mmapper\u001b[0m \u001b[1;32mimport\u001b[0m \u001b[0mmapper\u001b[0m\u001b[1;33m\u001b[0m\u001b[1;33m\u001b[0m\u001b[0m\n\u001b[0;32m      6\u001b[0m \u001b[1;32mfrom\u001b[0m \u001b[0mshapely\u001b[0m\u001b[1;33m.\u001b[0m\u001b[0mgeometry\u001b[0m \u001b[1;32mimport\u001b[0m \u001b[0mshape\u001b[0m\u001b[1;33m\u001b[0m\u001b[1;33m\u001b[0m\u001b[0m\n",
      "\u001b[1;31mModuleNotFoundError\u001b[0m: No module named '__main__.Utils'; '__main__' is not a package"
     ]
    }
   ],
   "source": [
    "sys.path.append(r'B:GitRepos\\Python Projects\\pySB')\n",
    "import numpy as np\n",
    "\n",
    "from .Utils.COGridGen import COGridGen\n",
    "from .Utils.mapper import mapper\n",
    "from shapely.geometry import shape\n",
    "import matplotlib.pyplot as plt"
   ]
  },
  {
   "cell_type": "code",
   "execution_count": null,
   "metadata": {},
   "outputs": [],
   "source": [
    "print(\"The excutable is {}\".format(sys.executable))\n",
    "\n",
    "grid = COGridGen(r\"..\\data\\GreenRiver\\centerline.shp\", 0.5, nx=25, ny=11, width=350)\n",
    "\n",
    "print(grid.description())\n",
    "\n"
   ]
  },
  {
   "cell_type": "code",
   "execution_count": null,
   "metadata": {},
   "outputs": [],
   "source": [
    "x, y = grid.cl.getpoints()\n",
    "# print(x)\n",
    "xo, yo = grid.cl.getinterppts(grid.nx, 100)\n",
    "# print(xo)\n",
    "\n",
    "xgrid, ygrid = grid.getXYGrid()\n",
    "# print(xgrid)\n",
    "\n",
    "plt.scatter(xgrid,ygrid)\n",
    "plt.plot(x,y)\n",
    "plt.plot(xo, yo)\n",
    "plt.show()\n"
   ]
  },
  {
   "cell_type": "code",
   "execution_count": null,
   "metadata": {},
   "outputs": [],
   "source": [
    "type(x.tolist())\n",
    "x.tolist()"
   ]
  },
  {
   "cell_type": "code",
   "execution_count": null,
   "metadata": {},
   "outputs": [],
   "source": [
    "import numpy as np\n",
    "import holoviews as hv\n",
    "hv.extension('bokeh', 'matplotlib')\n",
    "\n"
   ]
  },
  {
   "cell_type": "code",
   "execution_count": null,
   "metadata": {},
   "outputs": [],
   "source": [
    "%%opts Curve [aspect='equal']\n",
    "%%opts Scatter [aspect='equal']\n",
    "# Note aspect does not seem to work at this point, search suggests that it will \n",
    "# eventually\n",
    "# %%opts Curve [height=400, width=400, aspect='equal']\n",
    "Easting = hv.Dimension('easting', label='Easting', unit='m')\n",
    "Northing = hv.Dimension('northing', label='Northing', unit='m')\n",
    "\n",
    "cl_curve = hv.Curve((x.tolist(), y.tolist()), Easting, Northing, label='centerline')\n",
    "sp_curve = hv.Curve((xo.tolist(), yo.tolist()), label = 'spline')\n",
    "gridpts = hv.Scatter((xgrid.tolist(), ygrid.tolist()), label = 'grid')\n",
    "cl_curve * sp_curve * gridpts"
   ]
  },
  {
   "cell_type": "code",
   "execution_count": null,
   "metadata": {},
   "outputs": [],
   "source": [
    "# from holoviews.operation import Operation\n",
    "# class build_grid(Operation):\n",
    "#     def _process(self, grid, key=None):\n",
    "#         xo, yo = grid.cl.getinterppts(grid.nx)\n",
    "#         sp_curve = hv.Curve((xo.tolist(), yo.tolist()), label = 'spline')\n",
    "#         return sp_curve"
   ]
  },
  {
   "cell_type": "code",
   "execution_count": null,
   "metadata": {},
   "outputs": [],
   "source": [
    "# cl_curve * build_grid(grid)"
   ]
  },
  {
   "cell_type": "code",
   "execution_count": null,
   "metadata": {},
   "outputs": [],
   "source": [
    "def clcurve(tension):\n",
    "    x, y = grid.cl.getpoints()\n",
    "    xo, yo = grid.cl.getinterppts(grid.nx, tension)\n",
    "    print(tension)\n",
    "    c1 = hv.Curve((x.tolist(), y.tolist()), Easting, Northing, label='centerline')\n",
    "    c2 = hv.Curve((xo.tolist(), yo.tolist()), label = 'spline')\n",
    "    return c1*c2\n",
    "dmap = hv.DynamicMap(clcurve, kdims=['tension'])"
   ]
  },
  {
   "cell_type": "code",
   "execution_count": null,
   "metadata": {
    "scrolled": true
   },
   "outputs": [],
   "source": [
    "dmap.redim.range(tension=(0.1, 100))"
   ]
  },
  {
   "cell_type": "code",
   "execution_count": null,
   "metadata": {},
   "outputs": [],
   "source": [
    "map = mapper(grid, 'Elevation', 60, 5, 1, r\"..\\data\\GreenRiver\\channeltopoz.shp\", shp_has_geo=True)\n",
    "xd, yd, zd = map.getData()\n",
    "plt.scatter(xd, yd, s = 0.25, c=zd)\n",
    "plt.scatter(xgrid, ygrid, s=1, c='black')\n",
    "plt.show()"
   ]
  },
  {
   "cell_type": "code",
   "execution_count": null,
   "metadata": {},
   "outputs": [],
   "source": []
  },
  {
   "cell_type": "code",
   "execution_count": null,
   "metadata": {},
   "outputs": [],
   "source": [
    "map.MapwCLTemplate()\n",
    "tmp = 1000\n",
    "print(tmp)\n",
    "map.plotmapgrid()\n",
    "grid.plotmapgrid('Elevation')"
   ]
  },
  {
   "cell_type": "code",
   "execution_count": null,
   "metadata": {},
   "outputs": [],
   "source": []
  },
  {
   "cell_type": "code",
   "execution_count": null,
   "metadata": {},
   "outputs": [],
   "source": []
  },
  {
   "cell_type": "code",
   "execution_count": null,
   "metadata": {},
   "outputs": [],
   "source": []
  },
  {
   "cell_type": "code",
   "execution_count": null,
   "metadata": {},
   "outputs": [],
   "source": []
  },
  {
   "cell_type": "code",
   "execution_count": null,
   "metadata": {},
   "outputs": [],
   "source": []
  }
 ],
 "metadata": {
  "kernelspec": {
   "display_name": "Python 3",
   "language": "python",
   "name": "python3"
  },
  "language_info": {
   "codemirror_mode": {
    "name": "ipython",
    "version": 3
   },
   "file_extension": ".py",
   "mimetype": "text/x-python",
   "name": "python",
   "nbconvert_exporter": "python",
   "pygments_lexer": "ipython3",
   "version": "3.7.3"
  }
 },
 "nbformat": 4,
 "nbformat_minor": 4
}
